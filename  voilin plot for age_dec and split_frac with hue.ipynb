{
 "cells": [
  {
   "cell_type": "code",
   "execution_count": 8,
   "metadata": {
    "scrolled": true
   },
   "outputs": [
    {
     "data": {
      "text/plain": [
       "<matplotlib.axes._subplots.AxesSubplot at 0x1faf79de518>"
      ]
     },
     "execution_count": 8,
     "metadata": {},
     "output_type": "execute_result"
    },
    {
     "data": {
      "image/png": "[encoded data removed]",
      "text/plain": [
       "<Figure size 432x288 with 1 Axes>"
      ]
     },
     "metadata": {
      "needs_background": "light"
     },
     "output_type": "display_data"
    }
   ],
   "source": [
    "\"\"\"The difference between men and women here is interesting. Let’s look at the histogram\n",
    "of split fractions for these two groups : Male or Women\"\"\"\n",
    "\n",
    "#(Q) Generate a KDE plot for all the women \n",
    "\n",
    "import matplotlib.pyplot as plt\n",
    "import numpy as np\n",
    "import pandas as pd\n",
    "import seaborn as sns\n",
    "import warnings\n",
    "import time\n",
    "from datetime import datetime, timedelta\n",
    "warnings.filterwarnings('ignore')\n",
    "%matplotlib inline\n",
    "\n",
    "#data = pd.read_csv('marathon-data.csv')\n",
    "#print(data.dtypes, '\\n')\n",
    "#print(data.head(), '\\n')\n",
    "# Convert time into the desired format\n",
    "def convert_time(s):\n",
    "    h, m, s = map(int, s.split(':'))\n",
    "    return timedelta(hours=h, minutes=m, seconds=s)\n",
    "\n",
    "data = pd.read_csv('marathon-data.csv', converters={'split':convert_time, 'final':convert_time})\n",
    "#print(data.dtypes, '\\n')\n",
    "\"\"\"That looks much better. For the purpose of our Seaborn plotting utilities, let’s next\n",
    "add columns that give the times in seconds:\"\"\"\n",
    "#(Q) repeat the same for the final attribute and create split_sec attribute\n",
    "data['split_sec'] = data['split'] / np.timedelta64(1, 's')\n",
    "#data.head()\n",
    "#(Q) repeat the same for the final attribute and create final_sec attribute\n",
    "data['final_sec'] = data['final'] / np.timedelta64(1, 's')\n",
    "#plt.plot(data['split_sec'], data['final_sec'])\n",
    "#print(data.sort_values('split_sec'))\n",
    "\"\"\"Let’s create another column in the data, the split fraction, which measures the degree\n",
    "to which each runner negative-splits or positive-splits the race:\"\"\"\n",
    "\n",
    "# generating split fraction attribute using the formula\n",
    "data['split_frac'] = 1 - 2 * data['split_sec'] / data['final_sec']\n",
    "#sns.distplot(data['split_frac'])\n",
    "\n",
    "#(Q) Find number of points having split fraction less than 0\n",
    "\n",
    "#print('Total Number of records having split fraction less than 0 is : ', data[data['split_frac'] < 0].count()['split_frac'])\n",
    "#sns.pairplot(data, hue = 'gender')\n",
    "\n",
    "#g = sns.PairGrid(data, hue=\"gender\")\n",
    "#g.map(plt.scatter, alpha=0.8)\n",
    "#g.add_legend();\n",
    "\n",
    "#Generate a KDE plot for all the men  \n",
    "#sns.kdeplot(data.split_frac[data.gender=='M'], label='men', shade=True)\n",
    "#plt.xlabel('split_frac');\n",
    "#Generate a KDE plot for all the Women\n",
    "#sns.kdeplot(data.split_frac[data.gender=='W'], label='Women', shade=True)\n",
    "#sns.violinplot(x=\"gender\", y=\"split_frac\", data = data,\n",
    "#               palette=\"muted\", split=True)\n",
    "data['age_dec'] = data.age.map(lambda age: 10 * (age // 10))\n",
    "data.head()\n",
    "men   = (data.gender == 'M')\n",
    "women = (data.gender == 'W')\n",
    "sns.violinplot(x=\"gender\", y=\"split_frac\", hue= \"gender\",\n",
    "             data = data, palette=\"muted\")"
   ]
  },
  {
   "cell_type": "code",
   "execution_count": null,
   "metadata": {},
   "outputs": [],
   "source": []
  },
  {
   "cell_type": "code",
   "execution_count": null,
   "metadata": {},
   "outputs": [],
   "source": []
  }
 ],
 "metadata": {
  "kernelspec": {
   "display_name": "Python 3",
   "language": "python",
   "name": "python3"
  },
  "language_info": {
   "codemirror_mode": {
    "name": "ipython",
    "version": 3
   },
   "file_extension": ".py",
   "mimetype": "text/x-python",
   "name": "python",
   "nbconvert_exporter": "python",
   "pygments_lexer": "ipython3",
   "version": "3.7.3"
  }
 },
 "nbformat": 4,
 "nbformat_minor": 2
}
