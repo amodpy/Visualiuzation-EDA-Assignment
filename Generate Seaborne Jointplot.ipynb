{
 "cells": [
  {
   "cell_type": "code",
   "execution_count": 18,
   "metadata": {
    "scrolled": true
   },
   "outputs": [
    {
     "name": "stdout",
     "output_type": "stream",
     "text": [
      "       age gender    split    final  split_sec  final_sec\n",
      "14      37      M 01:05:21 02:19:47     3921.0     8387.0\n",
      "0       33      M 01:05:38 02:08:51     3938.0     7731.0\n",
      "8       30      M 01:05:39 02:15:57     3939.0     8157.0\n",
      "17      30      M 01:05:40 02:21:17     3940.0     8477.0\n",
      "9       30      M 01:05:40 02:16:39     3940.0     8199.0\n",
      "11      29      M 01:05:54 02:18:52     3954.0     8332.0\n",
      "21      31      M 01:05:54 02:22:20     3954.0     8540.0\n",
      "5       31      M 01:06:13 02:14:11     3973.0     8051.0\n",
      "3       38      M 01:06:16 02:13:45     3976.0     8025.0\n",
      "36      34      M 01:06:20 02:27:22     3980.0     8842.0\n",
      "1       32      M 01:06:26 02:09:28     3986.0     7768.0\n",
      "7       31      M 01:06:31 02:15:16     3991.0     8116.0\n",
      "4       31      M 01:06:32 02:13:59     3992.0     8039.0\n",
      "25      36      M 01:06:39 02:23:31     3999.0     8611.0\n",
      "6       27      M 01:06:40 02:14:28     4000.0     8068.0\n",
      "2       31      M 01:06:49 02:10:42     4009.0     7842.0\n",
      "75      29      M 01:07:09 02:31:49     4029.0     9109.0\n",
      "79      29      M 01:07:27 02:32:12     4047.0     9132.0\n",
      "10      26      M 01:08:10 02:18:18     4090.0     8298.0\n",
      "35      30      M 01:08:34 02:26:36     4114.0     8796.0\n",
      "12      28      M 01:08:59 02:19:36     4139.0     8376.0\n",
      "22      41      M 01:09:14 02:22:27     4154.0     8547.0\n",
      "13      24      M 01:09:16 02:19:45     4156.0     8385.0\n",
      "55      22      M 01:09:35 02:30:10     4175.0     9010.0\n",
      "54      22      M 01:09:44 02:29:54     4184.0     8994.0\n",
      "15      25      M 01:09:52 02:20:17     4192.0     8417.0\n",
      "16      22      M 01:09:53 02:20:57     4193.0     8457.0\n",
      "31      29      M 01:09:59 02:25:38     4199.0     8738.0\n",
      "149     38      M 01:10:04 02:36:50     4204.0     9410.0\n",
      "161     37      M 01:10:10 02:37:56     4210.0     9476.0\n",
      "...    ...    ...      ...      ...        ...        ...\n",
      "37238   71      M 03:48:30 09:00:00    13710.0    32400.0\n",
      "37236   55      M 03:48:44 08:58:38    13724.0    32318.0\n",
      "37235   37      W 03:48:55 08:58:03    13735.0    32283.0\n",
      "37175   48      W 03:49:14 08:21:36    13754.0    30096.0\n",
      "37229   60      W 03:49:33 08:50:58    13773.0    31858.0\n",
      "37239   68      W 03:49:51 09:00:48    13791.0    32448.0\n",
      "37083   46      W 03:50:57 08:01:02    13857.0    28862.0\n",
      "37099   59      M 03:51:49 08:04:25    13909.0    29065.0\n",
      "37012   55      W 03:53:37 07:53:02    14017.0    28382.0\n",
      "37006   48      W 03:54:05 07:51:50    14045.0    28310.0\n",
      "37086   40      W 03:54:12 08:01:37    14052.0    28897.0\n",
      "37187   47      W 03:54:22 08:26:58    14062.0    30418.0\n",
      "37200   60      M 03:54:38 08:33:27    14078.0    30807.0\n",
      "37211   65      W 03:57:52 08:38:49    14272.0    31129.0\n",
      "37065   53      W 03:59:21 07:59:20    14361.0    28760.0\n",
      "37081   57      M 03:59:21 08:00:47    14361.0    28847.0\n",
      "37108   51      M 04:00:28 08:06:14    14428.0    29174.0\n",
      "36854   55      M 04:04:29 07:38:21    14669.0    27501.0\n",
      "37204   64      M 04:04:39 08:34:53    14679.0    30893.0\n",
      "37203   50      W 04:05:13 08:34:28    14713.0    30868.0\n",
      "37181   20      M 04:12:16 08:22:58    15136.0    30178.0\n",
      "37212   60      M 04:15:18 08:39:10    15318.0    31150.0\n",
      "37244   32      W 04:15:33 09:32:56    15333.0    34376.0\n",
      "37243   67      M 04:19:47 09:16:15    15587.0    33375.0\n",
      "37247   51      M 04:22:35 09:33:40    15755.0    34420.0\n",
      "37245   18      M 04:24:24 09:32:57    15864.0    34377.0\n",
      "37242   64      W 04:27:19 09:10:58    16039.0    33058.0\n",
      "37246   36      M 04:35:43 09:33:28    16543.0    34408.0\n",
      "37248   55      W 04:58:06 10:00:40    17886.0    36040.0\n",
      "37249   58      W 04:59:49 10:01:08    17989.0    36068.0\n",
      "\n",
      "[37250 rows x 6 columns]\n"
     ]
    },
    {
     "data": {
      "image/png": "[encoded data removed]",
      "text/plain": [
       "<Figure size 432x288 with 1 Axes>"
      ]
     },
     "metadata": {
      "needs_background": "light"
     },
     "output_type": "display_data"
    }
   ],
   "source": [
    "\"\"\" By default, Pandas loaded the time columns as Python strings (type object); we can \n",
    "see this by looking at the dtypes attribute of the DataFrame:\"\"\"\n",
    "\n",
    "# (Q) Find out the data types of the attributes in the data after conversion\n",
    "\n",
    "import matplotlib.pyplot as plt\n",
    "import numpy as np\n",
    "import pandas as pd\n",
    "import seaborn as sns\n",
    "import warnings\n",
    "import time\n",
    "from datetime import datetime, timedelta\n",
    "warnings.filterwarnings('ignore')\n",
    "%matplotlib inline\n",
    "\n",
    "#data = pd.read_csv('marathon-data.csv')\n",
    "#print(data.dtypes, '\\n')\n",
    "#print(data.head(), '\\n')\n",
    "# Convert time into the desired format\n",
    "def convert_time(s):\n",
    "    h, m, s = map(int, s.split(':'))\n",
    "    return timedelta(hours=h, minutes=m, seconds=s)\n",
    "\n",
    "data = pd.read_csv('marathon-data.csv', converters={'split':convert_time, 'final':convert_time})\n",
    "#print(data.dtypes, '\\n')\n",
    "\"\"\"That looks much better. For the purpose of our Seaborn plotting utilities, let’s next\n",
    "add columns that give the times in seconds:\"\"\"\n",
    "#(Q) repeat the same for the final attribute and create split_sec attribute\n",
    "data['split_sec'] = data['split'] / np.timedelta64(1, 's')\n",
    "data.head()\n",
    "#(Q) repeat the same for the final attribute and create final_sec attribute\n",
    "data['final_sec'] = data['final'] / np.timedelta64(1, 's')\n",
    "plt.plot(data['split_sec'], data['final_sec'])\n",
    "print(data.sort_values('split_sec'))"
   ]
  },
  {
   "cell_type": "code",
   "execution_count": null,
   "metadata": {},
   "outputs": [],
   "source": []
  },
  {
   "cell_type": "code",
   "execution_count": null,
   "metadata": {},
   "outputs": [],
   "source": []
  }
 ],
 "metadata": {
  "kernelspec": {
   "display_name": "Python 3",
   "language": "python",
   "name": "python3"
  },
  "language_info": {
   "codemirror_mode": {
    "name": "ipython",
    "version": 3
   },
   "file_extension": ".py",
   "mimetype": "text/x-python",
   "name": "python",
   "nbconvert_exporter": "python",
   "pygments_lexer": "ipython3",
   "version": "3.7.3"
  }
 },
 "nbformat": 4,
 "nbformat_minor": 2
}
