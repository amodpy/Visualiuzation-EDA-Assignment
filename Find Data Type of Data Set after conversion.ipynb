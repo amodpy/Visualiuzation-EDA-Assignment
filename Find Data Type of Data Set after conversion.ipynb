{
 "cells": [
  {
   "cell_type": "code",
   "execution_count": 15,
   "metadata": {
    "scrolled": true
   },
   "outputs": [
    {
     "name": "stdout",
     "output_type": "stream",
     "text": [
      "age        int64\n",
      "gender    object\n",
      "split     object\n",
      "final     object\n",
      "dtype: object \n",
      "\n",
      "   age gender     split     final\n",
      "0   33      M  01:05:38  02:08:51\n",
      "1   32      M  01:06:26  02:09:28\n",
      "2   31      M  01:06:49  02:10:42\n",
      "3   38      M  01:06:16  02:13:45\n",
      "4   31      M  01:06:32  02:13:59 \n",
      "\n",
      "age                 int64\n",
      "gender             object\n",
      "split     timedelta64[ns]\n",
      "final     timedelta64[ns]\n",
      "dtype: object \n",
      "\n",
      "   age gender    split    final\n",
      "0   33      M 01:05:38 02:08:51\n",
      "1   32      M 01:06:26 02:09:28\n",
      "2   31      M 01:06:49 02:10:42\n",
      "3   38      M 01:06:16 02:13:45\n",
      "4   31      M 01:06:32 02:13:59\n"
     ]
    }
   ],
   "source": [
    "\"\"\" By default, Pandas loaded the time columns as Python strings (type object); we can \n",
    "see this by looking at the dtypes attribute of the DataFrame:\"\"\"\n",
    "\n",
    "# (Q) Find out the data types of the attributes in the data after conversion\n",
    "\n",
    "import matplotlib.pyplot as plt\n",
    "import numpy as np\n",
    "import pandas as pd\n",
    "import seaborn as sns\n",
    "import warnings\n",
    "import time\n",
    "from datetime import datetime, timedelta\n",
    "warnings.filterwarnings('ignore')\n",
    "%matplotlib inline\n",
    "\n",
    "data = pd.read_csv('marathon-data.csv')\n",
    "print(data.dtypes, '\\n')\n",
    "print(data.head(), '\\n')\n",
    "# Convert time into the desired format\n",
    "def convert_time(s):\n",
    "    h, m, s = map(int, s.split(':'))\n",
    "    return timedelta(hours=h, minutes=m, seconds=s)\n",
    "\n",
    "data = pd.read_csv('marathon-data.csv', converters={'split':convert_time, 'final':convert_time})\n",
    "print(data.dtypes, '\\n')\n",
    "print(data.head())"
   ]
  },
  {
   "cell_type": "code",
   "execution_count": null,
   "metadata": {},
   "outputs": [],
   "source": []
  },
  {
   "cell_type": "code",
   "execution_count": null,
   "metadata": {},
   "outputs": [],
   "source": []
  }
 ],
 "metadata": {
  "kernelspec": {
   "display_name": "Python 3",
   "language": "python",
   "name": "python3"
  },
  "language_info": {
   "codemirror_mode": {
    "name": "ipython",
    "version": 3
   },
   "file_extension": ".py",
   "mimetype": "text/x-python",
   "name": "python",
   "nbconvert_exporter": "python",
   "pygments_lexer": "ipython3",
   "version": "3.7.3"
  }
 },
 "nbformat": 4,
 "nbformat_minor": 2
}
